{
 "cells": [
  {
   "cell_type": "code",
   "execution_count": 8,
   "metadata": {},
   "outputs": [
    {
     "name": "stdout",
     "output_type": "stream",
     "text": [
      "Enter a Digit\n",
      "4\n",
      "Enter an operation\n",
      "*\n",
      "Enter a number\n",
      "4\n",
      "ans = 16\n"
     ]
    }
   ],
   "source": [
    "num = int(float(input('Enter a Digit\\n')))\n",
    "op = input('Enter an operation\\n')\n",
    "if op == '+':\n",
    "    num1 = int(float(input('Enter a number\\n')))\n",
    "    print(f'ans = {num+num1}')\n",
    "elif op == '-':\n",
    "    num1 = int(float(input('Enter a number\\n')))\n",
    "    print(f'ans = {num-num1}')\n",
    "elif op == '*':\n",
    "    num1 = int(float(input('Enter a number\\n')))\n",
    "    print(f'ans = {num*num1}')\n",
    "elif op == '/':\n",
    "    num1 = int(float(input('Enter a number\\n')))\n",
    "    print(f'ans = {num/num1}')\n",
    "else:\n",
    "    print('wrong Operation: Try Again') "
   ]
  },
  {
   "cell_type": "code",
   "execution_count": null,
   "metadata": {},
   "outputs": [],
   "source": []
  }
 ],
 "metadata": {
  "kernelspec": {
   "display_name": "Python 3",
   "language": "python",
   "name": "python3"
  }
 },
 "nbformat": 4,
 "nbformat_minor": 4
}
